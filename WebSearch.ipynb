{
 "cells": [
  {
   "cell_type": "code",
   "execution_count": 1,
   "metadata": {},
   "outputs": [],
   "source": [
    "import json\n",
    "import requests\n",
    "from langchain_community.llms import Ollama\n",
    "from langchain_core.prompts import ChatPromptTemplate\n",
    "import urllib.parse"
   ]
  },
  {
   "cell_type": "markdown",
   "metadata": {},
   "source": [
    "query Google, Bing or any public available search engines or query corporate search sites "
   ]
  },
  {
   "cell_type": "code",
   "execution_count": 2,
   "metadata": {},
   "outputs": [],
   "source": [
    "\n",
    "# Sample JSON response from API without calling API\n",
    "result1 = '''{\n",
    "  \"query\": \"Amey Ghate\",\n",
    "  \"number_of_results\": 0,\n",
    "  \"results\": [\n",
    "    {\"url\": \"https://www.linkedin.com/in/amey-ghate\"},\n",
    "    {\"url\": \"https://ameyghate.wordpress.com\"},\n",
    "    {\"url\": \"https://ameyghate.wordpress.com/work-experience/\"}\n",
    "  ]\n",
    "}'''\n",
    "result = json.loads(result1)"
   ]
  },
  {
   "cell_type": "code",
   "execution_count": 3,
   "metadata": {},
   "outputs": [],
   "source": [
    "from bs4 import BeautifulSoup\n",
    "\n",
    "\n",
    "numOfUrl = min(6,len(result['results'])) #limting data from first 6 search results\n",
    "data = {}\n",
    "\n",
    "for i in range(numOfUrl):\n",
    "    try:\n",
    "        response = requests.get(result['results'][i]['url'])  # Fetching data from URL\n",
    "        response.raise_for_status()  # Check for any HTTP errors\n",
    "        soup = BeautifulSoup(response.text, 'html.parser')  # Parsing HTML content\n",
    "        text = soup.get_text()  # Extracting text content\n",
    "        data[i] = text  # Storing the text content in the dictionary\n",
    "    except requests.exceptions.RequestException as e:\n",
    "        print(f\"Failed to fetch data from {i}: {e}\")\n"
   ]
  },
  {
   "cell_type": "code",
   "execution_count": 4,
   "metadata": {},
   "outputs": [],
   "source": [
    "import ollama\n",
    "# generate a response combining the prompt and data we retrieved in step 2\n",
    "\n",
    "output = ollama.generate(\n",
    "  #model=\"llama3.2:3b\",\n",
    "  model=\"llama3.1\",\n",
    "  prompt=f\"Anayse all the information and understand the central theme accross the documents. The task is to summarize the information. Use only the information in the following articles: {'\\n\\n'.join(data.values())}\",\n",
    "  stream=False\n",
    ")\n"
   ]
  },
  {
   "cell_type": "code",
   "execution_count": 5,
   "metadata": {},
   "outputs": [
    {
     "data": {
      "text/plain": [
       "'Here is a summary of the information across both documents:\\n\\n**Name:** Amey Ghate\\n\\n**Profession:** AI ML Engineer and Data Scientist\\n\\n**Education:**\\n\\n* Master of Science in Business Analytics from the University of Texas at Austin\\n* Bachelor of Technology in Information and Communication Technology from Dhirubhai Ambani Institute of Information and Communication Technology\\n\\n**Work Experience:**\\n\\n* Full Stack Developer at Publicis Sapient:\\n\\t+ Developed and deployed user stories on AWS Cloud\\n\\t+ Led a data visualization team to create portfolio reports for investment strategy evaluation\\n\\t+ Contributed to the creation of 35 user stories on AWS cloud, showcasing technical proficiency and project management skills\\n* AI ML Engineer (self-employed):\\n\\t+ Leveraged data science to solve real-world problems\\n\\t+ Explored new technologies and methodologies in the field\\n\\n**Key Projects:**\\n\\n* Deepfake Detection\\n* Recipe Site Traffic Forecasting\\n\\n**Skills:**\\n\\n* Programming languages: Python, Java, SQL\\n* Machine learning, deep learning, and unsupervised learning\\n* Data structures, algorithms, unit testing, and DevOps toolchain (Jenkins, version control, test automation)\\n* React, Redux, and React Toolkit for user interface development\\n* Strong leadership, communication, and project management skills\\n\\n**Personal Statement:**\\n\\nAmey is a passionate and innovative data scientist who excels in advanced machine learning, deep learning, and unsupervised learning. With a strong foundation in programming languages and experience in leading projects, Amey is eager to bring their technical expertise and mindset to new challenges in the field of data analytics and machine learning.'"
      ]
     },
     "execution_count": 5,
     "metadata": {},
     "output_type": "execute_result"
    }
   ],
   "source": [
    "output['response']"
   ]
  }
 ],
 "metadata": {
  "kernelspec": {
   "display_name": "rag",
   "language": "python",
   "name": "python3"
  },
  "language_info": {
   "codemirror_mode": {
    "name": "ipython",
    "version": 3
   },
   "file_extension": ".py",
   "mimetype": "text/x-python",
   "name": "python",
   "nbconvert_exporter": "python",
   "pygments_lexer": "ipython3",
   "version": "3.12.4"
  }
 },
 "nbformat": 4,
 "nbformat_minor": 2
}
